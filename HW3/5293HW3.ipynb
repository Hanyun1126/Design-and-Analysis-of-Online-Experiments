{
 "cells": [
  {
   "cell_type": "code",
   "execution_count": 135,
   "id": "b2b1bd5b",
   "metadata": {},
   "outputs": [],
   "source": [
    "import pandas as pd\n",
    "import numpy as np\n",
    "import scipy.stats\n",
    "import scipy.stats as stats\n",
    "from scipy.stats import ttest_ind\n",
    "from scipy.stats import norm\n",
    "from scipy.stats import bernoulli, binom\n",
    "from scipy.stats import t\n",
    "from sklearn.model_selection import train_test_split\n",
    "from scipy.stats import kstest, uniform\n",
    "\n",
    "import matplotlib.pyplot as plt\n",
    "import seaborn as sns"
   ]
  },
  {
   "cell_type": "code",
   "execution_count": 104,
   "id": "c26d8cdf",
   "metadata": {},
   "outputs": [
    {
     "data": {
      "text/html": [
       "<div>\n",
       "<style scoped>\n",
       "    .dataframe tbody tr th:only-of-type {\n",
       "        vertical-align: middle;\n",
       "    }\n",
       "\n",
       "    .dataframe tbody tr th {\n",
       "        vertical-align: top;\n",
       "    }\n",
       "\n",
       "    .dataframe thead th {\n",
       "        text-align: right;\n",
       "    }\n",
       "</style>\n",
       "<table border=\"1\" class=\"dataframe\">\n",
       "  <thead>\n",
       "    <tr style=\"text-align: right;\">\n",
       "      <th></th>\n",
       "      <th>uid</th>\n",
       "      <th>clicks</th>\n",
       "      <th>impressions</th>\n",
       "      <th>CTR</th>\n",
       "    </tr>\n",
       "  </thead>\n",
       "  <tbody>\n",
       "    <tr>\n",
       "      <th>0</th>\n",
       "      <td>1</td>\n",
       "      <td>0</td>\n",
       "      <td>63</td>\n",
       "      <td>0.000000</td>\n",
       "    </tr>\n",
       "    <tr>\n",
       "      <th>1</th>\n",
       "      <td>2</td>\n",
       "      <td>0</td>\n",
       "      <td>66</td>\n",
       "      <td>0.000000</td>\n",
       "    </tr>\n",
       "    <tr>\n",
       "      <th>2</th>\n",
       "      <td>3</td>\n",
       "      <td>0</td>\n",
       "      <td>35</td>\n",
       "      <td>0.000000</td>\n",
       "    </tr>\n",
       "    <tr>\n",
       "      <th>3</th>\n",
       "      <td>4</td>\n",
       "      <td>9</td>\n",
       "      <td>61</td>\n",
       "      <td>0.147541</td>\n",
       "    </tr>\n",
       "    <tr>\n",
       "      <th>4</th>\n",
       "      <td>5</td>\n",
       "      <td>0</td>\n",
       "      <td>47</td>\n",
       "      <td>0.000000</td>\n",
       "    </tr>\n",
       "    <tr>\n",
       "      <th>...</th>\n",
       "      <td>...</td>\n",
       "      <td>...</td>\n",
       "      <td>...</td>\n",
       "      <td>...</td>\n",
       "    </tr>\n",
       "    <tr>\n",
       "      <th>9987</th>\n",
       "      <td>9988</td>\n",
       "      <td>7</td>\n",
       "      <td>47</td>\n",
       "      <td>0.148936</td>\n",
       "    </tr>\n",
       "    <tr>\n",
       "      <th>9988</th>\n",
       "      <td>9989</td>\n",
       "      <td>8</td>\n",
       "      <td>78</td>\n",
       "      <td>0.102564</td>\n",
       "    </tr>\n",
       "    <tr>\n",
       "      <th>9989</th>\n",
       "      <td>9990</td>\n",
       "      <td>0</td>\n",
       "      <td>52</td>\n",
       "      <td>0.000000</td>\n",
       "    </tr>\n",
       "    <tr>\n",
       "      <th>9990</th>\n",
       "      <td>9991</td>\n",
       "      <td>7</td>\n",
       "      <td>71</td>\n",
       "      <td>0.098592</td>\n",
       "    </tr>\n",
       "    <tr>\n",
       "      <th>9991</th>\n",
       "      <td>9992</td>\n",
       "      <td>0</td>\n",
       "      <td>33</td>\n",
       "      <td>0.000000</td>\n",
       "    </tr>\n",
       "  </tbody>\n",
       "</table>\n",
       "<p>9992 rows × 4 columns</p>\n",
       "</div>"
      ],
      "text/plain": [
       "       uid  clicks  impressions       CTR\n",
       "0        1       0           63  0.000000\n",
       "1        2       0           66  0.000000\n",
       "2        3       0           35  0.000000\n",
       "3        4       9           61  0.147541\n",
       "4        5       0           47  0.000000\n",
       "...    ...     ...          ...       ...\n",
       "9987  9988       7           47  0.148936\n",
       "9988  9989       8           78  0.102564\n",
       "9989  9990       0           52  0.000000\n",
       "9990  9991       7           71  0.098592\n",
       "9991  9992       0           33  0.000000\n",
       "\n",
       "[9992 rows x 4 columns]"
      ]
     },
     "execution_count": 104,
     "metadata": {},
     "output_type": "execute_result"
    }
   ],
   "source": [
    "# Load data\n",
    "df = pd.read_csv('homework3.csv')\n",
    "df = df.rename(columns={'Unnamed: 0': 'uid'})\n",
    "# Calculate the user-level CTR for each user\n",
    "df['CTR'] = df['clicks'] / df['impressions']\n",
    "df"
   ]
  },
  {
   "cell_type": "markdown",
   "id": "f118a2df",
   "metadata": {},
   "source": [
    "# Problem 1: Single Average CTR"
   ]
  },
  {
   "cell_type": "markdown",
   "id": "72d44b28",
   "metadata": {},
   "source": [
    "## 1.1\n",
    "In this case, instead of implementing the traditional approach, you can further approximate the click event using a Bernoulli distribution, then the total number of clicks follow a binomial distribution. Now you can calculate the variance of CTR using p(1-p)/N, where p is your CTR."
   ]
  },
  {
   "cell_type": "code",
   "execution_count": 105,
   "id": "1150500c",
   "metadata": {},
   "outputs": [],
   "source": [
    "# Define your metric function\n",
    "def single_average_ctr(clicks, impressions):\n",
    "    return clicks / impressions"
   ]
  },
  {
   "cell_type": "code",
   "execution_count": 149,
   "id": "45b7d7e3",
   "metadata": {
    "scrolled": true
   },
   "outputs": [
    {
     "data": {
      "image/png": "[encoded data removed]",
      "text/plain": [
       "<Figure size 640x480 with 1 Axes>"
      ]
     },
     "metadata": {},
     "output_type": "display_data"
    }
   ],
   "source": [
    "# Set up the simulation\n",
    "n_simulations = 1000\n",
    "p_values_1_1 = np.zeros(n_simulations)\n",
    "\n",
    "for i in range(n_simulations):\n",
    "    # Randomly spilt the data\n",
    "    boot_sample = df.sample(frac=0.5)\n",
    "    \n",
    "    # Calculate the Single Average CTR for each group\n",
    "    group1_clicks = boot_sample.iloc[:len(boot_sample)//2]['clicks'].sum()\n",
    "    group1_impressions = boot_sample.iloc[:len(boot_sample)//2]['impressions'].sum()\n",
    "    group1_ctr = single_average_ctr(group1_clicks, group1_impressions)\n",
    "    \n",
    "    group2_clicks = boot_sample.iloc[len(boot_sample)//2:]['clicks'].sum()\n",
    "    group2_impressions = boot_sample.iloc[len(boot_sample)//2:]['impressions'].sum()\n",
    "    group2_ctr = single_average_ctr(group2_clicks, group2_impressions)\n",
    "    \n",
    "    # Calculate the difference in CTR\n",
    "    ctr_diff = group2_ctr - group1_ctr\n",
    "    \n",
    "    # Calculate the variance of CTR using the Bernoulli and binomial distribution\n",
    "    n1 = group1_impressions\n",
    "    n2 = group2_impressions\n",
    "    p1 = group1_ctr\n",
    "    p2 = group2_ctr\n",
    "    var1 = p1*(1-p1)/n1\n",
    "    var2 = p2*(1-p2)/n2\n",
    "    var_diff = var1 + var2\n",
    "    \n",
    "    # Calculate the standard error and test statistic\n",
    "    se = np.sqrt(var_diff)\n",
    "    test_stat = ctr_diff / se * np.sqrt(n1+n2)\n",
    "    \n",
    "    # Calculate the p-value\n",
    "    p_value = norm.sf(abs(test_stat)) * 2\n",
    "    p_values_1_1[i] = p_value\n",
    "\n",
    "# Plot the distribution of p-values\n",
    "plt.hist(p_values_1_1, bins=20)\n",
    "plt.title('Distribution of p-values')\n",
    "plt.xlabel('p-value')\n",
    "plt.ylabel('Count')\n",
    "plt.show()"
   ]
  },
  {
   "cell_type": "code",
   "execution_count": 150,
   "id": "4b9fcce3",
   "metadata": {},
   "outputs": [
    {
     "name": "stdout",
     "output_type": "stream",
     "text": [
      "Mean p-value: 0.001\n",
      "Number of significant tests: 998 out of 1000\n"
     ]
    }
   ],
   "source": [
    "# Report observations for 1.1\n",
    "mean_p_value = np.mean(p_values_1_1)\n",
    "significant_tests = sum(p_values_1_1 < 0.05)\n",
    "print(f\"Mean p-value: {mean_p_value:.3f}\")\n",
    "print(f\"Number of significant tests: {significant_tests} out of {n_simulations}\")"
   ]
  },
  {
   "cell_type": "markdown",
   "id": "2ab9e7a4",
   "metadata": {},
   "source": [
    "## 1.2\n",
    "Plot the distribution of p-value using variance estimation approach 2 and report what you observe."
   ]
  },
  {
   "cell_type": "code",
   "execution_count": 117,
   "id": "2b56d9c0",
   "metadata": {},
   "outputs": [],
   "source": [
    "#variance estimation of metrics ratio using delta method\n",
    "def var_ratio(x,y): #x/y\n",
    "    mean_x = np.mean(x)\n",
    "    mean_y = np.mean(y)\n",
    "    var_x = np.var(x,ddof=1)\n",
    "    var_y = np.var(y,ddof=1)\n",
    "    cov_xy = np.cov(x,y,ddof=1)[0][1]\n",
    "    result = (var_x/mean_x**2 + var_y/mean_y**2 - 2*cov_xy/(mean_x*mean_y))*(mean_x*mean_x)/(mean_y*mean_y*len(x))\n",
    "    return result "
   ]
  },
  {
   "cell_type": "code",
   "execution_count": 139,
   "id": "95be1270",
   "metadata": {},
   "outputs": [
    {
     "data": {
      "image/png": "[encoded data removed]",
      "text/plain": [
       "<Figure size 640x480 with 1 Axes>"
      ]
     },
     "metadata": {},
     "output_type": "display_data"
    }
   ],
   "source": [
    "# Initialize an empty list to store the p-values\n",
    "p_values_1_2 = np.zeros(1000)\n",
    "\n",
    "# Repeat the simulation for 1000 times\n",
    "for i in range(1000):\n",
    "    # Randomly split the data into two groups\n",
    "    group_control = df.sample(frac=0.5)\n",
    "    group_treatment = df.drop(group_control.index)\n",
    "    \n",
    "    # Calculate CTR for each group\n",
    "    ctr_control = group_control['clicks'].sum() / group_control['impressions'].sum()\n",
    "    ctr_treatment = group_treatment['clicks'].sum() / group_treatment['impressions'].sum()\n",
    "    \n",
    "    # Calculate CTR variance for each group\n",
    "    var_control = var_ratio(group_control['clicks'],group_control['impressions'])\n",
    "    var_treatment = var_ratio(group_treatment['clicks'],group_treatment['impressions'])\n",
    "    \n",
    "    # Calculate observed difference in CTR\n",
    "    diff = ctr_treatment - ctr_control \n",
    "    \n",
    "    # Calculate the standard error\n",
    "    se = np.sqrt(var_control+var_treatment)\n",
    "    \n",
    "    # Calculate the test statistic and p-value\n",
    "    test_statistic = diff / se\n",
    "    p_value = 2 * (1 - stats.norm.cdf(abs(test_statistic)))\n",
    "    \n",
    "    # Append the p-value to the list\n",
    "    p_values_1_2[i] = p_value\n",
    "    \n",
    "# Plot the distribution of p-values\n",
    "plt.hist(p_values_1_2, bins=20)\n",
    "plt.xlabel('P-value')\n",
    "plt.ylabel('Frequency')\n",
    "plt.show()"
   ]
  },
  {
   "cell_type": "code",
   "execution_count": 140,
   "id": "1ea6d748",
   "metadata": {},
   "outputs": [
    {
     "name": "stdout",
     "output_type": "stream",
     "text": [
      "Mean p-value: 0.502\n",
      "Number of significant tests: 48 out of 1000\n"
     ]
    }
   ],
   "source": [
    "# Report observations for 1.2\n",
    "mean_p_value = np.mean(p_values_1_2)\n",
    "significant_tests = sum(p_values_1_2 < 0.05)\n",
    "print(f\"Mean p-value: {mean_p_value:.3f}\")\n",
    "print(f\"Number of significant tests: {significant_tests} out of {n_simulations}\")"
   ]
  },
  {
   "cell_type": "markdown",
   "id": "1fd627eb",
   "metadata": {},
   "source": [
    "## 1.3\n",
    "Plot the distribution of p-value using variance estimation approach 3 and report what you observe"
   ]
  },
  {
   "cell_type": "code",
   "execution_count": 142,
   "id": "645ede3e",
   "metadata": {},
   "outputs": [
    {
     "data": {
      "image/png": "[encoded data removed]",
      "text/plain": [
       "<Figure size 640x480 with 1 Axes>"
      ]
     },
     "metadata": {},
     "output_type": "display_data"
    }
   ],
   "source": [
    "# Set up the bootstrap simulation\n",
    "n_simulations = 100\n",
    "n_bootstrap = 100\n",
    "p_values_1_3 = np.zeros(n_simulations)\n",
    "\n",
    "for i in range(n_simulations):\n",
    "    # Sample with replacement from the data\n",
    "    boot_sample = df.sample(n=len(df), replace=True)\n",
    "    \n",
    "    # Calculate the Single Average CTR for each group\n",
    "    group1_clicks = boot_sample.iloc[:len(boot_sample)//2]['clicks'].sum()\n",
    "    group1_impressions = boot_sample.iloc[:len(boot_sample)//2]['impressions'].sum()\n",
    "    group1_ctr = group1_clicks / group1_impressions\n",
    "    \n",
    "    group2_clicks = boot_sample.iloc[len(boot_sample)//2:]['clicks'].sum()\n",
    "    group2_impressions = boot_sample.iloc[len(boot_sample)//2:]['impressions'].sum()\n",
    "    group2_ctr = group2_clicks / group2_impressions\n",
    "    \n",
    "    # Calculate the difference in CTR\n",
    "    ctr_diff = group2_ctr - group1_ctr\n",
    "    \n",
    "    # Calculate the standard error using the bootstrap\n",
    "    ctr_boot_samples = np.zeros(n_bootstrap)\n",
    "    for j in range(n_bootstrap):\n",
    "        boot_sample = boot_sample.sample(n=len(boot_sample), replace=True)\n",
    "        group1_clicks = boot_sample.iloc[:len(boot_sample)//2]['clicks'].sum()\n",
    "        group1_impressions = boot_sample.iloc[:len(boot_sample)//2]['impressions'].sum()\n",
    "        group1_ctr = group1_clicks / group1_impressions\n",
    "        group2_clicks = boot_sample.iloc[len(boot_sample)//2:]['clicks'].sum()\n",
    "        group2_impressions = boot_sample.iloc[len(boot_sample)//2:]['impressions'].sum()\n",
    "        group2_ctr = group2_clicks / group2_impressions\n",
    "        ctr_boot_samples[j] = group2_ctr - group1_ctr\n",
    "    se_boot = np.std(ctr_boot_samples)\n",
    "    \n",
    "    # Calculate the test statistic and p-value\n",
    "    test_stat = ctr_diff / se_boot\n",
    "    p_value = norm.sf(abs(test_stat)) * 2\n",
    "    p_values_1_3[i] = p_value\n",
    "\n",
    "# Plot the distribution of p-values\n",
    "import matplotlib.pyplot as plt\n",
    "plt.hist(p_values_1_3, bins=20)\n",
    "plt.title('Distribution of p-values (Bootstrap)')\n",
    "plt.xlabel('p-value')\n",
    "plt.ylabel('Count')\n",
    "plt.show()"
   ]
  },
  {
   "cell_type": "code",
   "execution_count": 143,
   "id": "91ca0c99",
   "metadata": {},
   "outputs": [
    {
     "name": "stdout",
     "output_type": "stream",
     "text": [
      "Mean p-value: 0.544\n",
      "Number of significant tests: 3 out of 100\n"
     ]
    }
   ],
   "source": [
    "# Report observations for 1.3\n",
    "mean_p_value = np.mean(p_values_1_3)\n",
    "significant_tests = sum(p_values_1_3 < 0.05)\n",
    "print(f\"Mean p-value: {mean_p_value:.3f}\")\n",
    "print(f\"Number of significant tests: {significant_tests} out of {n_simulations}\")"
   ]
  },
  {
   "cell_type": "markdown",
   "id": "b718d2f4",
   "metadata": {},
   "source": [
    "## 1.4"
   ]
  },
  {
   "cell_type": "markdown",
   "id": "a9a4384c",
   "metadata": {},
   "source": [
    "I run KS (Kolmogorov-Smirnov) test to test the p-value distribution against a uniform distribution."
   ]
  },
  {
   "cell_type": "markdown",
   "id": "cd2d1e18",
   "metadata": {},
   "source": [
    "### 1.1"
   ]
  },
  {
   "cell_type": "code",
   "execution_count": 151,
   "id": "3865a494",
   "metadata": {},
   "outputs": [
    {
     "name": "stdout",
     "output_type": "stream",
     "text": [
      "KS test statistic: 0.9979322423325748\n",
      "p-value: 0.0\n",
      "Reject null hypothesis (not uniform)\n"
     ]
    }
   ],
   "source": [
    "# observed frequencies\n",
    "observed_freq = p_values_1_1\n",
    "\n",
    "# perform KS test to test uniformity\n",
    "statistic, p_value = kstest(observed_freq, uniform().cdf)\n",
    "\n",
    "# print results\n",
    "print(f\"KS test statistic: {statistic}\")\n",
    "print(f\"p-value: {p_value}\")\n",
    "\n",
    "# gauge whether to reject null hypothesis\n",
    "if p_value < 0.05:\n",
    "    print(\"Reject null hypothesis (not uniform)\")\n",
    "else:\n",
    "    print(\"Do not reject null hypothesis (uniform)\")"
   ]
  },
  {
   "cell_type": "markdown",
   "id": "b813bde3",
   "metadata": {},
   "source": [
    "### 1.2"
   ]
  },
  {
   "cell_type": "code",
   "execution_count": 141,
   "id": "42f721a1",
   "metadata": {},
   "outputs": [
    {
     "name": "stdout",
     "output_type": "stream",
     "text": [
      "KS test statistic: 0.016808709191310278\n",
      "p-value: 0.9355525515070517\n",
      "Do not reject null hypothesis (uniform)\n"
     ]
    }
   ],
   "source": [
    "# observed frequencies\n",
    "observed_freq = p_values_1_2\n",
    "\n",
    "# perform KS test to test uniformity\n",
    "statistic, p_value = kstest(observed_freq, uniform().cdf)\n",
    "\n",
    "# print results\n",
    "print(f\"KS test statistic: {statistic}\")\n",
    "print(f\"p-value: {p_value}\")\n",
    "\n",
    "# gauge whether to reject null hypothesis\n",
    "if p_value < 0.05:\n",
    "    print(\"Reject null hypothesis (not uniform)\")\n",
    "else:\n",
    "    print(\"Do not reject null hypothesis (uniform)\")"
   ]
  },
  {
   "cell_type": "markdown",
   "id": "d1e67fd4",
   "metadata": {},
   "source": [
    "### 1.3"
   ]
  },
  {
   "cell_type": "code",
   "execution_count": 144,
   "id": "4808483a",
   "metadata": {},
   "outputs": [
    {
     "name": "stdout",
     "output_type": "stream",
     "text": [
      "KS test statistic: 0.12381539069602787\n",
      "p-value: 0.0854796261130349\n",
      "Do not reject null hypothesis (uniform)\n"
     ]
    }
   ],
   "source": [
    "# observed frequencies\n",
    "observed_freq = p_values_1_3\n",
    "\n",
    "# perform KS test to test uniformity\n",
    "statistic, p_value = kstest(observed_freq, uniform().cdf)\n",
    "\n",
    "# print results\n",
    "print(f\"KS test statistic: {statistic}\")\n",
    "print(f\"p-value: {p_value}\")\n",
    "\n",
    "# gauge whether to reject null hypothesis\n",
    "if p_value < 0.05:\n",
    "    print(\"Reject null hypothesis (not uniform)\")\n",
    "else:\n",
    "    print(\"Do not reject null hypothesis (uniform)\")"
   ]
  },
  {
   "cell_type": "markdown",
   "id": "c3244e31",
   "metadata": {},
   "source": [
    "### Conclusion"
   ]
  },
  {
   "cell_type": "markdown",
   "id": "bb311938",
   "metadata": {},
   "source": [
    "From above, approach 1 failed AA test, approach 2 and 3 passed AA test."
   ]
  },
  {
   "cell_type": "markdown",
   "id": "0b5e2205",
   "metadata": {},
   "source": [
    "# Problem 2: Double Average CTR\n",
    "calculate user level CTR first, and then take the average across all users"
   ]
  },
  {
   "cell_type": "markdown",
   "id": "6a73337c",
   "metadata": {},
   "source": [
    "## 2.1"
   ]
  },
  {
   "cell_type": "code",
   "execution_count": 145,
   "id": "28624da5",
   "metadata": {},
   "outputs": [
    {
     "data": {
      "image/png": "[encoded data removed]",
      "text/plain": [
       "<Figure size 640x480 with 1 Axes>"
      ]
     },
     "metadata": {},
     "output_type": "display_data"
    }
   ],
   "source": [
    "# Set up parameters for simulation\n",
    "num_sims = 1000\n",
    "significance_level = 0.05\n",
    "\n",
    "# Initialize array to store p-values from each simulation\n",
    "p_values_2_1 = np.zeros(num_sims)\n",
    "\n",
    "# Loop over simulations\n",
    "for i in range(num_sims):\n",
    "    # Split data randomly into two groups\n",
    "    group1, group2 = train_test_split(df[\"CTR\"], test_size=0.5) \n",
    "    \n",
    "    # Calculate sample variances for each group\n",
    "    var1 = np.var(group1, ddof=1)\n",
    "    var2 = np.var(group2, ddof=1)\n",
    "    \n",
    "    # Calculate pooled variance\n",
    "    pool_var = (var1 + var2) / 2\n",
    "    \n",
    "    # Calculate t-statistic and p-value\n",
    "    t_val = (group1.mean() - group2.mean()) / np.sqrt(pool_var * (1 / len(group1) + 1 / len(group2)))\n",
    "    dfs = len(df) - 2\n",
    "    p_val = scipy.stats.t.sf(abs(t_val), dfs) * 2\n",
    "    \n",
    "    # Store p-value\n",
    "    p_values_2_1[i] = p_val\n",
    "\n",
    "# Plot the histogram of p-values\n",
    "plt.hist(p_values_2_1, bins=20)\n",
    "plt.xlabel('P-value')\n",
    "plt.ylabel('Frequency')\n",
    "plt.title('Distribution of P-values approach 1')\n",
    "plt.show()"
   ]
  },
  {
   "cell_type": "code",
   "execution_count": 146,
   "id": "8806d574",
   "metadata": {},
   "outputs": [
    {
     "name": "stdout",
     "output_type": "stream",
     "text": [
      "Mean p-value: 0.508\n",
      "Number of significant tests: 46 out of 100\n"
     ]
    }
   ],
   "source": [
    "# Report observations for 2.1\n",
    "mean_p_value = np.mean(p_values_2_1)\n",
    "significant_tests = sum(p_values_2_1 < 0.05)\n",
    "print(f\"Mean p-value: {mean_p_value:.3f}\")\n",
    "print(f\"Number of significant tests: {significant_tests} out of {n_simulations}\")"
   ]
  },
  {
   "cell_type": "markdown",
   "id": "4b74eb1e",
   "metadata": {},
   "source": [
    "## 2.2"
   ]
  },
  {
   "cell_type": "code",
   "execution_count": 112,
   "id": "56b93756",
   "metadata": {},
   "outputs": [
    {
     "data": {
      "image/png": "[encoded data removed]",
      "text/plain": [
       "<Figure size 640x480 with 1 Axes>"
      ]
     },
     "metadata": {},
     "output_type": "display_data"
    }
   ],
   "source": [
    "# Set up the bootstrap simulation\n",
    "n_simulations = 100\n",
    "n_bootstrap = 100\n",
    "p_values = np.zeros(n_simulations)\n",
    "\n",
    "for i in range(n_simulations):\n",
    "    # Sample with replacement from the data\n",
    "    boot_sample = df.sample(n=len(df), replace=True)\n",
    "    \n",
    "    # Calculate the Double Average CTR for each group\n",
    "    group1_ctr = boot_sample.iloc[:len(boot_sample)//2].apply(lambda x: x['clicks']/x['impressions'], axis=1).mean()\n",
    "    group2_ctr = boot_sample.iloc[len(boot_sample)//2:].apply(lambda x: x['clicks']/x['impressions'], axis=1).mean()\n",
    "    \n",
    "    # Calculate the difference in CTR\n",
    "    ctr_diff = group2_ctr - group1_ctr\n",
    "    \n",
    "    # Calculate the standard error using the bootstrap\n",
    "    ctr_boot_samples = np.zeros(n_bootstrap)\n",
    "    for j in range(n_bootstrap):\n",
    "        boot_sample = boot_sample.sample(n=len(boot_sample), replace=True)\n",
    "        group1_ctr = boot_sample.iloc[:len(boot_sample)//2].apply(lambda x: x['clicks']/x['impressions'], axis=1).mean()\n",
    "        group2_ctr = boot_sample.iloc[len(boot_sample)//2:].apply(lambda x: x['clicks']/x['impressions'], axis=1).mean()\n",
    "        ctr_boot_samples[j] = group2_ctr - group1_ctr\n",
    "    se_boot = np.std(ctr_boot_samples)\n",
    "    \n",
    "    # Calculate the test statistic and p-value\n",
    "    test_stat = ctr_diff / se_boot\n",
    "    p_value = norm.sf(abs(test_stat)) * 2\n",
    "    p_values[i] = p_value\n",
    "\n",
    "# Plot the distribution of p-values\n",
    "plt.hist(p_values, bins=20)\n",
    "plt.title('Distribution of p-values (Bootstrap)')\n",
    "plt.xlabel('p-value')\n",
    "plt.ylabel('Count')\n",
    "plt.show()"
   ]
  },
  {
   "cell_type": "code",
   "execution_count": 113,
   "id": "c69d0cea",
   "metadata": {},
   "outputs": [
    {
     "name": "stdout",
     "output_type": "stream",
     "text": [
      "Mean p-value: 0.487\n",
      "Number of significant tests: 5 out of 100\n"
     ]
    }
   ],
   "source": [
    "# Report observations for 2.2\n",
    "mean_p_value = np.mean(p_values)\n",
    "significant_tests = sum(p_values < 0.05)\n",
    "print(f\"Mean p-value: {mean_p_value:.3f}\")\n",
    "print(f\"Number of significant tests: {significant_tests} out of {n_simulations}\")"
   ]
  },
  {
   "cell_type": "markdown",
   "id": "aa680a71",
   "metadata": {},
   "source": [
    "## 2.3"
   ]
  },
  {
   "cell_type": "markdown",
   "id": "2d88a828",
   "metadata": {},
   "source": [
    "### 2.1"
   ]
  },
  {
   "cell_type": "code",
   "execution_count": 147,
   "id": "1ee1f4cd",
   "metadata": {},
   "outputs": [
    {
     "name": "stdout",
     "output_type": "stream",
     "text": [
      "KS test statistic: 0.02955895115456253\n",
      "p-value: 0.3399507152319221\n",
      "Do not reject null hypothesis (uniform)\n"
     ]
    }
   ],
   "source": [
    "# observed frequencies\n",
    "observed_freq = p_values_2_1\n",
    "\n",
    "# perform KS test to test uniformity\n",
    "statistic, p_value = kstest(observed_freq, uniform().cdf)\n",
    "\n",
    "# print results\n",
    "print(f\"KS test statistic: {statistic}\")\n",
    "print(f\"p-value: {p_value}\")\n",
    "\n",
    "# gauge whether to reject null hypothesis\n",
    "if p_value < 0.05:\n",
    "    print(\"Reject null hypothesis (not uniform)\")\n",
    "else:\n",
    "    print(\"Do not reject null hypothesis (uniform)\")"
   ]
  },
  {
   "cell_type": "markdown",
   "id": "79108f6b",
   "metadata": {},
   "source": [
    "### 2.2"
   ]
  },
  {
   "cell_type": "code",
   "execution_count": 148,
   "id": "34d5a74a",
   "metadata": {},
   "outputs": [
    {
     "name": "stdout",
     "output_type": "stream",
     "text": [
      "KS test statistic: 0.030738092864961652\n",
      "p-value: 0.29516427037430304\n",
      "Do not reject null hypothesis (uniform)\n"
     ]
    }
   ],
   "source": [
    "# observed frequencies\n",
    "observed_freq = p_values\n",
    "\n",
    "# perform KS test to test uniformity\n",
    "statistic, p_value = kstest(observed_freq, uniform().cdf)\n",
    "\n",
    "# print results\n",
    "print(f\"KS test statistic: {statistic}\")\n",
    "print(f\"p-value: {p_value}\")\n",
    "\n",
    "# gauge whether to reject null hypothesis\n",
    "if p_value < 0.05:\n",
    "    print(\"Reject null hypothesis (not uniform)\")\n",
    "else:\n",
    "    print(\"Do not reject null hypothesis (uniform)\")"
   ]
  },
  {
   "cell_type": "markdown",
   "id": "c2487288",
   "metadata": {},
   "source": [
    "### Conclusion"
   ]
  },
  {
   "cell_type": "markdown",
   "id": "e4d0eaf8",
   "metadata": {},
   "source": [
    "Apprpach 1 and 3 pass the AA test."
   ]
  },
  {
   "cell_type": "markdown",
   "id": "5b5b79e6",
   "metadata": {},
   "source": [
    "## 2.4"
   ]
  },
  {
   "cell_type": "markdown",
   "id": "92ebccc8",
   "metadata": {},
   "source": [
    "Single average CTR (Click-Through Rate) is calculated by taking the total number of clicks and dividing it by the total number of impressions. It is a simple and straightforward metric that measures the effectiveness of an ad campaign at a high level.\n",
    "\n",
    "On the other hand, double average CTR is calculated by first calculating the CTR for each user and then taking the average across all users. This metric takes into account individual variations in user behavior and can provide more granular insights into the performance of an ad campaign.\n",
    "\n",
    "The main difference between the two metrics is that single average CTR treats all users equally and assumes that they have the same behavior and preferences when interacting with the ads. Double average CTR, on the other hand, takes into account the fact that users may have different preferences and behavior when interacting with the ads and provides a more detailed view of campaign performance.\n",
    "\n",
    "The main advantage of using a single average CTR is that it is a simple and straightforward metric that can provide an overall view of campaign performance. It is easy to understand and compare across different campaigns. However, it does not take into account individual differences in user behavior and may not be able to identify specific areas for improvement.\n",
    "\n",
    "The main advantage of using double average CTR is that it takes into account individual variations in user behavior and provides more granular insights into campaign performance. It can help identify specific areas for improvement and provide insights into user behavior and preferences. However, it is a more complex metric that requires more data and analysis and may not be as easy to compare across different campaigns."
   ]
  }
 ],
 "metadata": {
  "kernelspec": {
   "display_name": "Python 3 (ipykernel)",
   "language": "python",
   "name": "python3"
  },
  "language_info": {
   "codemirror_mode": {
    "name": "ipython",
    "version": 3
   },
   "file_extension": ".py",
   "mimetype": "text/x-python",
   "name": "python",
   "nbconvert_exporter": "python",
   "pygments_lexer": "ipython3",
   "version": "3.9.13"
  }
 },
 "nbformat": 4,
 "nbformat_minor": 5
}
